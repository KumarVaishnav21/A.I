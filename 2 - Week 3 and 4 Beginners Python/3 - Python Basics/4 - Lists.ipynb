{
 "cells": [
  {
   "cell_type": "code",
   "execution_count": 1,
   "id": "9eae52bf-3b79-4480-b4f8-6de04808c9f7",
   "metadata": {},
   "outputs": [],
   "source": [
    "item1 = \"bread\"\n",
    "item2 = \"pasta\"\n",
    "item3 = \"cheese\"\n",
    "item4 = \"veggies\""
   ]
  },
  {
   "cell_type": "code",
   "execution_count": 2,
   "id": "6c4be83e-bc58-4aff-8a74-cc47f7897beb",
   "metadata": {},
   "outputs": [
    {
     "data": {
      "text/plain": [
       "['bread', 'pasta', 'cheese', 'veggies']"
      ]
     },
     "execution_count": 2,
     "metadata": {},
     "output_type": "execute_result"
    }
   ],
   "source": [
    "item = [\"bread\", \"pasta\", \"cheese\", \"veggies\"]\n",
    "item"
   ]
  },
  {
   "cell_type": "code",
   "execution_count": 4,
   "id": "adc52ee7-0434-4f4c-b832-6f9e4771c181",
   "metadata": {},
   "outputs": [
    {
     "data": {
      "text/plain": [
       "'bread'"
      ]
     },
     "execution_count": 4,
     "metadata": {},
     "output_type": "execute_result"
    }
   ],
   "source": [
    "item[0]"
   ]
  },
  {
   "cell_type": "code",
   "execution_count": 5,
   "id": "6d304ccf-4ade-48ad-85bf-1bba7fd07fa0",
   "metadata": {},
   "outputs": [
    {
     "data": {
      "text/plain": [
       "'veggies'"
      ]
     },
     "execution_count": 5,
     "metadata": {},
     "output_type": "execute_result"
    }
   ],
   "source": [
    "item[3]"
   ]
  },
  {
   "cell_type": "code",
   "execution_count": 6,
   "id": "200a6f06-121c-48ba-a4f2-fbb2c5847121",
   "metadata": {},
   "outputs": [
    {
     "ename": "IndexError",
     "evalue": "list index out of range",
     "output_type": "error",
     "traceback": [
      "\u001b[1;31m---------------------------------------------------------------------------\u001b[0m",
      "\u001b[1;31mIndexError\u001b[0m                                Traceback (most recent call last)",
      "Cell \u001b[1;32mIn[6], line 1\u001b[0m\n\u001b[1;32m----> 1\u001b[0m \u001b[43mitem\u001b[49m\u001b[43m[\u001b[49m\u001b[38;5;241;43m5\u001b[39;49m\u001b[43m]\u001b[49m\n",
      "\u001b[1;31mIndexError\u001b[0m: list index out of range"
     ]
    }
   ],
   "source": [
    "item[5]"
   ]
  },
  {
   "cell_type": "code",
   "execution_count": 7,
   "id": "3ffb0ff5-84f9-46a2-a8ce-21fb4d448a2e",
   "metadata": {},
   "outputs": [
    {
     "data": {
      "text/plain": [
       "'veggies'"
      ]
     },
     "execution_count": 7,
     "metadata": {},
     "output_type": "execute_result"
    }
   ],
   "source": [
    "item[-1]"
   ]
  },
  {
   "cell_type": "code",
   "execution_count": 8,
   "id": "0585e2d4-d6a5-4616-bec2-61b2a6e1b4ba",
   "metadata": {},
   "outputs": [
    {
     "data": {
      "text/plain": [
       "['bread', 'pasta']"
      ]
     },
     "execution_count": 8,
     "metadata": {},
     "output_type": "execute_result"
    }
   ],
   "source": [
    "item[0:2]"
   ]
  },
  {
   "cell_type": "code",
   "execution_count": 9,
   "id": "84097ac7-2bcc-4e59-857d-f2857c74ab71",
   "metadata": {},
   "outputs": [
    {
     "data": {
      "text/plain": [
       "['bread', 'pasta']"
      ]
     },
     "execution_count": 9,
     "metadata": {},
     "output_type": "execute_result"
    }
   ],
   "source": [
    "item[:2]"
   ]
  },
  {
   "cell_type": "code",
   "execution_count": 10,
   "id": "4e16c308-41a3-4199-80c1-e2b6bb92fd7e",
   "metadata": {},
   "outputs": [
    {
     "data": {
      "text/plain": [
       "['bread', 'pasta', 'cheese']"
      ]
     },
     "execution_count": 10,
     "metadata": {},
     "output_type": "execute_result"
    }
   ],
   "source": [
    "item[:3]"
   ]
  },
  {
   "cell_type": "code",
   "execution_count": 11,
   "id": "985894ff-77c9-4477-996b-f5029383259f",
   "metadata": {},
   "outputs": [
    {
     "data": {
      "text/plain": [
       "['bread', 'pasta', 'cheese', 'veggies', 'butter']"
      ]
     },
     "execution_count": 11,
     "metadata": {},
     "output_type": "execute_result"
    }
   ],
   "source": [
    "item.append(\"butter\")\n",
    "item"
   ]
  },
  {
   "cell_type": "code",
   "execution_count": 12,
   "id": "8e9278ae-2ab9-483a-9b2b-6eb939cb80b6",
   "metadata": {},
   "outputs": [
    {
     "data": {
      "text/plain": [
       "['bread', 'pasta', 'cheese', 'veggies']"
      ]
     },
     "execution_count": 12,
     "metadata": {},
     "output_type": "execute_result"
    }
   ],
   "source": [
    "#want butter after bread\n",
    "item = [\"bread\", \"pasta\", \"cheese\", \"veggies\"]\n",
    "item"
   ]
  },
  {
   "cell_type": "code",
   "execution_count": 14,
   "id": "f9fe3ccc-a754-4488-a177-e2eff5a826dd",
   "metadata": {},
   "outputs": [
    {
     "data": {
      "text/plain": [
       "['bread', 'butter', 'butter', 'pasta', 'cheese', 'veggies']"
      ]
     },
     "execution_count": 14,
     "metadata": {},
     "output_type": "execute_result"
    }
   ],
   "source": [
    "item.insert(1, \"butter\") #little expensive operation\n",
    "item"
   ]
  },
  {
   "cell_type": "code",
   "execution_count": 15,
   "id": "6889006d-e657-4b47-927e-d14dfadfd7bc",
   "metadata": {},
   "outputs": [],
   "source": [
    "item.remove(\"pasta\")"
   ]
  },
  {
   "cell_type": "code",
   "execution_count": 16,
   "id": "cbb01594-7b97-4f35-b69b-98a55463a089",
   "metadata": {},
   "outputs": [
    {
     "data": {
      "text/plain": [
       "['bread', 'butter', 'butter', 'cheese', 'veggies']"
      ]
     },
     "execution_count": 16,
     "metadata": {},
     "output_type": "execute_result"
    }
   ],
   "source": [
    "item"
   ]
  },
  {
   "cell_type": "code",
   "execution_count": 17,
   "id": "8ab492e5-78d5-49bb-a406-7f37c50c662a",
   "metadata": {},
   "outputs": [],
   "source": [
    "item.remove(\"butter\")"
   ]
  },
  {
   "cell_type": "code",
   "execution_count": 18,
   "id": "1cb98183-0db1-4666-9061-a8882c11851d",
   "metadata": {},
   "outputs": [
    {
     "data": {
      "text/plain": [
       "['bread', 'butter', 'cheese', 'veggies']"
      ]
     },
     "execution_count": 18,
     "metadata": {},
     "output_type": "execute_result"
    }
   ],
   "source": [
    "item"
   ]
  },
  {
   "cell_type": "code",
   "execution_count": 19,
   "id": "8e0ba6d3-c83f-41bd-99b8-98435a2bff7c",
   "metadata": {},
   "outputs": [
    {
     "data": {
      "text/plain": [
       "False"
      ]
     },
     "execution_count": 19,
     "metadata": {},
     "output_type": "execute_result"
    }
   ],
   "source": [
    "\"rice\" in item"
   ]
  },
  {
   "cell_type": "code",
   "execution_count": 20,
   "id": "55701ed3-cf1c-4d12-a1b3-4e80f44c232c",
   "metadata": {},
   "outputs": [
    {
     "data": {
      "text/plain": [
       "True"
      ]
     },
     "execution_count": 20,
     "metadata": {},
     "output_type": "execute_result"
    }
   ],
   "source": [
    "\"rice\" not in item"
   ]
  },
  {
   "cell_type": "code",
   "execution_count": 21,
   "id": "4bb45f7a-1318-4716-af08-a62b3f8540f1",
   "metadata": {},
   "outputs": [
    {
     "data": {
      "text/plain": [
       "True"
      ]
     },
     "execution_count": 21,
     "metadata": {},
     "output_type": "execute_result"
    }
   ],
   "source": [
    "\"bread\" in item"
   ]
  },
  {
   "cell_type": "code",
   "execution_count": 22,
   "id": "a58b48dd-b216-4d0e-9d7f-a0547e86326d",
   "metadata": {},
   "outputs": [],
   "source": [
    "expenses = [30, 1200, 45, 300]"
   ]
  },
  {
   "cell_type": "code",
   "execution_count": 23,
   "id": "caa2c255-9da2-4ed9-ab6c-e6b48663ec40",
   "metadata": {},
   "outputs": [
    {
     "data": {
      "text/plain": [
       "[30, 1200, 45, 300]"
      ]
     },
     "execution_count": 23,
     "metadata": {},
     "output_type": "execute_result"
    }
   ],
   "source": [
    "expenses"
   ]
  },
  {
   "cell_type": "code",
   "execution_count": 25,
   "id": "c774d76f-38e0-4f38-97af-3724e6e811af",
   "metadata": {},
   "outputs": [],
   "source": [
    "expenses.sort()"
   ]
  },
  {
   "cell_type": "code",
   "execution_count": 26,
   "id": "4b9cf5a3-7eb7-4ebb-8e31-33d4e6a55b89",
   "metadata": {},
   "outputs": [
    {
     "data": {
      "text/plain": [
       "[30, 45, 300, 1200]"
      ]
     },
     "execution_count": 26,
     "metadata": {},
     "output_type": "execute_result"
    }
   ],
   "source": [
    "expenses"
   ]
  },
  {
   "cell_type": "code",
   "execution_count": 30,
   "id": "7a4d5508-6ffa-4b9c-aa45-a214e7ed58d4",
   "metadata": {},
   "outputs": [],
   "source": [
    "my_list = [\"zebra\", \"bro\", \"apple\"]\n",
    "my_list.sort()"
   ]
  },
  {
   "cell_type": "code",
   "execution_count": 31,
   "id": "a7193057-cb82-415b-ab9e-6a1bff506335",
   "metadata": {},
   "outputs": [
    {
     "data": {
      "text/plain": [
       "['zebra', 'bro', 'apple']"
      ]
     },
     "execution_count": 31,
     "metadata": {},
     "output_type": "execute_result"
    }
   ],
   "source": [
    "my_list.sort(reverse = True)\n",
    "my_list"
   ]
  },
  {
   "cell_type": "code",
   "execution_count": 32,
   "id": "ca3447c2-7db2-428f-9f4b-8954264c460b",
   "metadata": {},
   "outputs": [],
   "source": [
    "food_items = [\"bread\", \"pasta\", \"fruits\"]\n",
    "bathroom_items = [\"shampoo\", \"soap\"]"
   ]
  },
  {
   "cell_type": "code",
   "execution_count": 33,
   "id": "89da1532-dd67-43f2-80b3-3289ad054843",
   "metadata": {},
   "outputs": [
    {
     "data": {
      "text/plain": [
       "['bread', 'pasta', 'fruits', 'shampoo', 'soap']"
      ]
     },
     "execution_count": 33,
     "metadata": {},
     "output_type": "execute_result"
    }
   ],
   "source": [
    "all_items = food_items + bathroom_items\n",
    "all_items"
   ]
  },
  {
   "cell_type": "code",
   "execution_count": 34,
   "id": "008fe039-ed8b-41a1-80f2-de864fb391e4",
   "metadata": {},
   "outputs": [
    {
     "data": {
      "text/plain": [
       "5"
      ]
     },
     "execution_count": 34,
     "metadata": {},
     "output_type": "execute_result"
    }
   ],
   "source": [
    "len(all_items)"
   ]
  },
  {
   "cell_type": "code",
   "execution_count": 36,
   "id": "1c32b167-8a89-4eaf-923b-4aef8f63a598",
   "metadata": {
    "scrolled": true
   },
   "outputs": [
    {
     "data": {
      "text/plain": [
       "['__add__',\n",
       " '__class__',\n",
       " '__contains__',\n",
       " '__delattr__',\n",
       " '__delitem__',\n",
       " '__dir__',\n",
       " '__doc__',\n",
       " '__eq__',\n",
       " '__format__',\n",
       " '__ge__',\n",
       " '__getattribute__',\n",
       " '__getitem__',\n",
       " '__gt__',\n",
       " '__hash__',\n",
       " '__iadd__',\n",
       " '__imul__',\n",
       " '__init__',\n",
       " '__init_subclass__',\n",
       " '__iter__',\n",
       " '__le__',\n",
       " '__len__',\n",
       " '__lt__',\n",
       " '__mul__',\n",
       " '__ne__',\n",
       " '__new__',\n",
       " '__reduce__',\n",
       " '__reduce_ex__',\n",
       " '__repr__',\n",
       " '__reversed__',\n",
       " '__rmul__',\n",
       " '__setattr__',\n",
       " '__setitem__',\n",
       " '__sizeof__',\n",
       " '__str__',\n",
       " '__subclasshook__',\n",
       " 'append',\n",
       " 'clear',\n",
       " 'copy',\n",
       " 'count',\n",
       " 'extend',\n",
       " 'index',\n",
       " 'insert',\n",
       " 'pop',\n",
       " 'remove',\n",
       " 'reverse',\n",
       " 'sort']"
      ]
     },
     "execution_count": 36,
     "metadata": {},
     "output_type": "execute_result"
    }
   ],
   "source": [
    "dir(all_items) # all lists method"
   ]
  },
  {
   "cell_type": "code",
   "execution_count": 37,
   "id": "06796666-251e-430a-8064-7a23106cfe68",
   "metadata": {},
   "outputs": [
    {
     "data": {
      "text/plain": [
       "['veggies', 'cheese', 'butter', 'bread']"
      ]
     },
     "execution_count": 37,
     "metadata": {},
     "output_type": "execute_result"
    }
   ],
   "source": [
    "item.reverse()\n",
    "item"
   ]
  },
  {
   "cell_type": "code",
   "execution_count": 39,
   "id": "9f124bba-94b8-4735-9571-b2f640757bcd",
   "metadata": {},
   "outputs": [
    {
     "data": {
      "text/plain": [
       "['car', 4.5, True]"
      ]
     },
     "execution_count": 39,
     "metadata": {},
     "output_type": "execute_result"
    }
   ],
   "source": [
    "#lists are heterogenous\n",
    "random = [\"car\", 4.5, True]\n",
    "random"
   ]
  },
  {
   "cell_type": "markdown",
   "id": "a798998a-ef34-4e45-a2b1-c61045a3ed29",
   "metadata": {},
   "source": [
    "EXERCISE"
   ]
  },
  {
   "cell_type": "raw",
   "id": "5eb67f5a-0efc-4197-935e-5d0e15a9eeb2",
   "metadata": {
    "vscode": {
     "languageId": "raw"
    }
   },
   "source": [
    "You are a Marvel fan and created a list of superheroes.\n",
    "\n",
    "​​​​​​​avengers  = [\"Iron Man\", \"Captain America\", \"Black Widow\", \"Hulk\", \"Thor\", \"Hawkeye\"]\n",
    "Using this list, do the following:\n",
    "\n",
    "Calculate how many members are in the Avengers team?\n",
    "Iron Man made Spider-Man a new member of the Avengers, add him to your list.\n",
    "Captain America is the leader of the Avengers, you need to add him before Iron Man, so remove him from the list and add him before Iron Man.\n",
    "You don’t like Thor and Hulk together because they get angry easily and fight with each other. So you have to separate them from each other. To separate them, either move “Black Widow” or “Hawkeye” in between them.\n",
    "After Avengers: End Game the original six avengers are retired, now you need to remove them from your list and add new superheroes like Doctor Strange, Vision, Wanda, Kate Bishop, and Ant-Man.\n",
    "As “Captain America” is also retired and now currently, no one is the leader, so sort the list in alphabetical order. Whoever will come at the 0th index will become the Leader. (BONUS: can you guess who will become the leader)\n",
    "​​​​​​​\n",
    "Solution: Click on the Download Files button (top right) to download the solution. To open this file in jupyter notebook,\n",
    "(1) Open a command prompt\n",
    "(2) In the command prompt, go to a directory where the file is downloaded\n",
    "(3) Run python -m notebook to launch a jupyter notebook. In the jupyter notebook, you will be able to see the solution file"
   ]
  },
  {
   "cell_type": "code",
   "execution_count": null,
   "id": "0d52bcb9-97fc-45a8-8bb2-9290c36dda83",
   "metadata": {},
   "outputs": [],
   "source": []
  }
 ],
 "metadata": {
  "kernelspec": {
   "display_name": "Python 3 (ipykernel)",
   "language": "python",
   "name": "python3"
  },
  "language_info": {
   "codemirror_mode": {
    "name": "ipython",
    "version": 3
   },
   "file_extension": ".py",
   "mimetype": "text/x-python",
   "name": "python",
   "nbconvert_exporter": "python",
   "pygments_lexer": "ipython3",
   "version": "3.8.10"
  }
 },
 "nbformat": 4,
 "nbformat_minor": 5
}
