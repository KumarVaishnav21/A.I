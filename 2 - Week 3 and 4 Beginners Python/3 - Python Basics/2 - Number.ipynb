{
 "cells": [
  {
   "cell_type": "code",
   "execution_count": 4,
   "id": "44c1e86c-9d41-4ed5-b59c-2f783462ab64",
   "metadata": {},
   "outputs": [],
   "source": [
    "base = 10.5\n",
    "height = 7"
   ]
  },
  {
   "cell_type": "code",
   "execution_count": 5,
   "id": "fbf13225-4953-4812-ac05-6c4f81bc0813",
   "metadata": {},
   "outputs": [
    {
     "data": {
      "text/plain": [
       "float"
      ]
     },
     "execution_count": 5,
     "metadata": {},
     "output_type": "execute_result"
    }
   ],
   "source": [
    "type(base)"
   ]
  },
  {
   "cell_type": "code",
   "execution_count": 6,
   "id": "9f8352f8-c525-422d-a0b3-9473a5d3236e",
   "metadata": {},
   "outputs": [
    {
     "data": {
      "text/plain": [
       "int"
      ]
     },
     "execution_count": 6,
     "metadata": {},
     "output_type": "execute_result"
    }
   ],
   "source": [
    "type(height)"
   ]
  },
  {
   "cell_type": "code",
   "execution_count": 9,
   "id": "cfb42c81-4b62-4ff7-a90f-f5601b736cc0",
   "metadata": {},
   "outputs": [],
   "source": [
    "area = (1/2)*base*height"
   ]
  },
  {
   "cell_type": "code",
   "execution_count": 10,
   "id": "b4828e53-5cb7-4640-8dc5-8ea206be5a9d",
   "metadata": {},
   "outputs": [
    {
     "data": {
      "text/plain": [
       "36.75"
      ]
     },
     "execution_count": 10,
     "metadata": {},
     "output_type": "execute_result"
    }
   ],
   "source": [
    "area"
   ]
  },
  {
   "cell_type": "code",
   "execution_count": 11,
   "id": "60441ed4-cf48-430e-9360-5b47a8394652",
   "metadata": {},
   "outputs": [
    {
     "data": {
      "text/plain": [
       "float"
      ]
     },
     "execution_count": 11,
     "metadata": {},
     "output_type": "execute_result"
    }
   ],
   "source": [
    "type(area)"
   ]
  },
  {
   "cell_type": "code",
   "execution_count": 12,
   "id": "273cda56-721a-4944-b7d2-58fcdfdd2f11",
   "metadata": {},
   "outputs": [
    {
     "data": {
      "text/plain": [
       "3"
      ]
     },
     "execution_count": 12,
     "metadata": {},
     "output_type": "execute_result"
    }
   ],
   "source": [
    "1+2"
   ]
  },
  {
   "cell_type": "code",
   "execution_count": 13,
   "id": "7a1ec471-e18f-48c4-9470-d46919df636a",
   "metadata": {},
   "outputs": [
    {
     "data": {
      "text/plain": [
       "6"
      ]
     },
     "execution_count": 13,
     "metadata": {},
     "output_type": "execute_result"
    }
   ],
   "source": [
    "2*3"
   ]
  },
  {
   "cell_type": "code",
   "execution_count": 14,
   "id": "8a4c00b7-870d-4ab5-b727-c20ba82516b3",
   "metadata": {},
   "outputs": [
    {
     "data": {
      "text/plain": [
       "3.3333333333333335"
      ]
     },
     "execution_count": 14,
     "metadata": {},
     "output_type": "execute_result"
    }
   ],
   "source": [
    "10/3"
   ]
  },
  {
   "cell_type": "code",
   "execution_count": 25,
   "id": "d0e47f91-5207-44aa-8ddc-332cf8cc7792",
   "metadata": {},
   "outputs": [
    {
     "data": {
      "text/plain": [
       "3"
      ]
     },
     "execution_count": 25,
     "metadata": {},
     "output_type": "execute_result"
    }
   ],
   "source": [
    "10//3 #floor"
   ]
  },
  {
   "cell_type": "code",
   "execution_count": 18,
   "id": "ba57f485-e22a-4421-9662-65c0b9703ed3",
   "metadata": {},
   "outputs": [
    {
     "data": {
      "text/plain": [
       "2"
      ]
     },
     "execution_count": 18,
     "metadata": {},
     "output_type": "execute_result"
    }
   ],
   "source": [
    "17%3 # remainder"
   ]
  },
  {
   "cell_type": "code",
   "execution_count": 19,
   "id": "a5575825-cc9c-4e08-b51b-ce818aa879b0",
   "metadata": {},
   "outputs": [
    {
     "data": {
      "text/plain": [
       "9"
      ]
     },
     "execution_count": 19,
     "metadata": {},
     "output_type": "execute_result"
    }
   ],
   "source": [
    "3**2 #Exponent"
   ]
  },
  {
   "cell_type": "code",
   "execution_count": 20,
   "id": "7b24a933-987c-4cf9-9861-09def24cb2cc",
   "metadata": {},
   "outputs": [
    {
     "data": {
      "text/plain": [
       "81"
      ]
     },
     "execution_count": 20,
     "metadata": {},
     "output_type": "execute_result"
    }
   ],
   "source": [
    "3**4"
   ]
  },
  {
   "cell_type": "code",
   "execution_count": 21,
   "id": "7a94cc38-982e-4a29-b70f-55358ebe0ddc",
   "metadata": {},
   "outputs": [
    {
     "data": {
      "text/plain": [
       "81"
      ]
     },
     "execution_count": 21,
     "metadata": {},
     "output_type": "execute_result"
    }
   ],
   "source": [
    "3*3*3*3"
   ]
  },
  {
   "cell_type": "code",
   "execution_count": 23,
   "id": "ec8fac48-0e9a-43dd-a667-34be76d6603f",
   "metadata": {},
   "outputs": [
    {
     "data": {
      "text/plain": [
       "16"
      ]
     },
     "execution_count": 23,
     "metadata": {},
     "output_type": "execute_result"
    }
   ],
   "source": [
    "10+2*3 #BODMAS (order of precedence)"
   ]
  },
  {
   "cell_type": "code",
   "execution_count": 24,
   "id": "1543ab1c-82c6-4264-874c-d4dfc6708428",
   "metadata": {},
   "outputs": [
    {
     "data": {
      "text/plain": [
       "36"
      ]
     },
     "execution_count": 24,
     "metadata": {},
     "output_type": "execute_result"
    }
   ],
   "source": [
    "(10+2)*3"
   ]
  },
  {
   "cell_type": "code",
   "execution_count": 26,
   "id": "120873d1-571c-4959-9b5e-e409791b0f28",
   "metadata": {},
   "outputs": [],
   "source": [
    "foo = 2.3e4"
   ]
  },
  {
   "cell_type": "code",
   "execution_count": 28,
   "id": "bb1ff9c0-49be-40f5-90e4-6d51a78db772",
   "metadata": {},
   "outputs": [
    {
     "data": {
      "text/plain": [
       "23000.0"
      ]
     },
     "execution_count": 28,
     "metadata": {},
     "output_type": "execute_result"
    }
   ],
   "source": [
    "foo #e4 = 10^4"
   ]
  },
  {
   "cell_type": "code",
   "execution_count": 29,
   "id": "843677d8-6ab3-463a-9a52-8161616ec7d0",
   "metadata": {},
   "outputs": [],
   "source": [
    "bar = 2.3e-3"
   ]
  },
  {
   "cell_type": "code",
   "execution_count": 31,
   "id": "41c8eb26-065f-47c1-80f1-53ae15b032ca",
   "metadata": {},
   "outputs": [
    {
     "data": {
      "text/plain": [
       "0.0023"
      ]
     },
     "execution_count": 31,
     "metadata": {},
     "output_type": "execute_result"
    }
   ],
   "source": [
    "bar #e-3 = 10^-3"
   ]
  },
  {
   "cell_type": "code",
   "execution_count": 32,
   "id": "f6cf9e58-b417-485d-b8d0-c2c4900f5fd8",
   "metadata": {},
   "outputs": [
    {
     "data": {
      "text/plain": [
       "0.0023"
      ]
     },
     "execution_count": 32,
     "metadata": {},
     "output_type": "execute_result"
    }
   ],
   "source": [
    "2.3*(10**-3)"
   ]
  },
  {
   "cell_type": "code",
   "execution_count": 33,
   "id": "970d3874-997f-42ac-80bc-a8b006d80498",
   "metadata": {},
   "outputs": [],
   "source": [
    "food = 120.34\n",
    "rent = 500.4\n",
    "utilities = 200.5"
   ]
  },
  {
   "cell_type": "code",
   "execution_count": 34,
   "id": "dc367d91-0765-4ab6-9db8-67bafee2445d",
   "metadata": {},
   "outputs": [],
   "source": [
    "Expense = food + rent + utilities"
   ]
  },
  {
   "cell_type": "code",
   "execution_count": 35,
   "id": "745b2e20-f881-486a-9d31-27d0c040b037",
   "metadata": {},
   "outputs": [
    {
     "data": {
      "text/plain": [
       "821.24"
      ]
     },
     "execution_count": 35,
     "metadata": {},
     "output_type": "execute_result"
    }
   ],
   "source": [
    "Expense"
   ]
  },
  {
   "cell_type": "code",
   "execution_count": 36,
   "id": "c17233b8-984e-42dd-bece-d25a50b889d9",
   "metadata": {},
   "outputs": [
    {
     "data": {
      "text/plain": [
       "821"
      ]
     },
     "execution_count": 36,
     "metadata": {},
     "output_type": "execute_result"
    }
   ],
   "source": [
    "round(Expense)"
   ]
  },
  {
   "cell_type": "code",
   "execution_count": 37,
   "id": "c7f802db-bb2f-49c7-b67d-a1c109529cb8",
   "metadata": {},
   "outputs": [],
   "source": [
    "income = 10000\n",
    "expenses = 9000\n",
    "savings = income - expenses"
   ]
  },
  {
   "cell_type": "code",
   "execution_count": 38,
   "id": "28e681da-ddc5-4e9b-91ea-477ec25aa27a",
   "metadata": {},
   "outputs": [
    {
     "data": {
      "text/plain": [
       "1000"
      ]
     },
     "execution_count": 38,
     "metadata": {},
     "output_type": "execute_result"
    }
   ],
   "source": [
    "savings"
   ]
  },
  {
   "cell_type": "code",
   "execution_count": 39,
   "id": "a09ed465-d2b0-46c4-868c-2352b8b78ffb",
   "metadata": {},
   "outputs": [],
   "source": [
    "food = \"120.34\"\n",
    "rent = \"500.4\""
   ]
  },
  {
   "cell_type": "code",
   "execution_count": 40,
   "id": "2b6e6bf2-187b-4519-abfe-99edc8749750",
   "metadata": {},
   "outputs": [
    {
     "data": {
      "text/plain": [
       "str"
      ]
     },
     "execution_count": 40,
     "metadata": {},
     "output_type": "execute_result"
    }
   ],
   "source": [
    "type(food)"
   ]
  },
  {
   "cell_type": "code",
   "execution_count": 41,
   "id": "d8ac460e-d9a0-4590-8ddb-d2a1f2d83b2a",
   "metadata": {},
   "outputs": [],
   "source": [
    "total = food+rent"
   ]
  },
  {
   "cell_type": "code",
   "execution_count": 42,
   "id": "84f5c492-21cd-4289-874a-d825d81cffcb",
   "metadata": {},
   "outputs": [
    {
     "data": {
      "text/plain": [
       "'120.34500.4'"
      ]
     },
     "execution_count": 42,
     "metadata": {},
     "output_type": "execute_result"
    }
   ],
   "source": [
    "total"
   ]
  },
  {
   "cell_type": "code",
   "execution_count": 45,
   "id": "07077dd6-c700-4f6b-9222-da1a25b42bd0",
   "metadata": {},
   "outputs": [
    {
     "data": {
      "text/plain": [
       "'120.34500.4'"
      ]
     },
     "execution_count": 45,
     "metadata": {},
     "output_type": "execute_result"
    }
   ],
   "source": [
    "total = food + rent\n",
    "total"
   ]
  },
  {
   "cell_type": "code",
   "execution_count": 48,
   "id": "9228bbb1-50c2-469c-b4fe-7199a6d8dbec",
   "metadata": {},
   "outputs": [
    {
     "data": {
      "text/plain": [
       "'101'"
      ]
     },
     "execution_count": 48,
     "metadata": {},
     "output_type": "execute_result"
    }
   ],
   "source": [
    "format(5, 'b') #Binary representation of Integers"
   ]
  },
  {
   "cell_type": "code",
   "execution_count": 49,
   "id": "a3893ec2-eac0-47ea-8590-24173a0e8a74",
   "metadata": {},
   "outputs": [],
   "source": [
    "## Read IEEE Number Standard"
   ]
  },
  {
   "cell_type": "markdown",
   "id": "c506a348-1866-4667-bc87-32d3756090fa",
   "metadata": {},
   "source": [
    "Exercise"
   ]
  },
  {
   "cell_type": "raw",
   "id": "dea811af-830f-4d7c-87a1-fcba7963ddcf",
   "metadata": {},
   "source": [
    "Remember the format() function we used in the last video?? Now pass 145 and ‘o’ in the function and see what it returns. Try to find out which representation it is.\n",
    "There is a circular pond in a village. This pond has a radius of 84 meters. Can you find the area of the pond? (Bonus: If there is exactly 1.4 liter of water in a square meter, what is the total amount of water in the pond?)\n",
    "Hint:\n",
    "Circle Area = πr2\n",
    "\n",
    "If you cross a 490-meter-long street in 7 minutes, then what is your speed in meters per second? Print your answer without any decimal point in it.\n",
    "Hint:**\n",
    "Speed = Distance / Time\n",
    "\n",
    "Solution: Click on the Download Files button (top right) to download the solution. To open this file in jupyter notebook,\n",
    "(1) Open a command prompt\n",
    "(2) In the command prompt, go to a directory where the file is downloaded\n",
    "(3) Run python -m notebook to launch a jupyter notebook. In the jupyter notebook, you will be able to see the solution file"
   ]
  },
  {
   "cell_type": "code",
   "execution_count": 52,
   "id": "b97307e9-eb79-4634-91ec-931e3c0a5d9e",
   "metadata": {},
   "outputs": [
    {
     "data": {
      "text/plain": [
       "'221'"
      ]
     },
     "execution_count": 52,
     "metadata": {},
     "output_type": "execute_result"
    }
   ],
   "source": [
    "format(145, 'o')"
   ]
  },
  {
   "cell_type": "code",
   "execution_count": 55,
   "id": "88fc2c5c-5a3a-4234-a8b3-ec66f5d92708",
   "metadata": {},
   "outputs": [],
   "source": [
    "radius = 84\n",
    "pi = 22/7"
   ]
  },
  {
   "cell_type": "code",
   "execution_count": 56,
   "id": "f9716e39-b92e-4fb6-81dd-675783242574",
   "metadata": {},
   "outputs": [],
   "source": [
    "Area = pi * (radius*radius)"
   ]
  },
  {
   "cell_type": "code",
   "execution_count": 57,
   "id": "0ae8f35d-c49c-41ca-917e-0af5afc98121",
   "metadata": {},
   "outputs": [
    {
     "data": {
      "text/plain": [
       "22176.0"
      ]
     },
     "execution_count": 57,
     "metadata": {},
     "output_type": "execute_result"
    }
   ],
   "source": [
    "Area"
   ]
  },
  {
   "cell_type": "code",
   "execution_count": 60,
   "id": "b2e2075c-6868-48be-a4f4-783f3c88b94c",
   "metadata": {},
   "outputs": [],
   "source": [
    "distance = 490\n",
    "time = 7\n",
    "time_in_seconds = 7*60"
   ]
  },
  {
   "cell_type": "code",
   "execution_count": 61,
   "id": "8fc59cd3-89c0-42a8-83ab-643809382e98",
   "metadata": {},
   "outputs": [
    {
     "data": {
      "text/plain": [
       "420"
      ]
     },
     "execution_count": 61,
     "metadata": {},
     "output_type": "execute_result"
    }
   ],
   "source": [
    "time_in_seconds"
   ]
  },
  {
   "cell_type": "code",
   "execution_count": 62,
   "id": "9a74585e-b638-4ded-8002-9daed29732a4",
   "metadata": {},
   "outputs": [],
   "source": [
    "Speed = distance/time_in_seconds"
   ]
  },
  {
   "cell_type": "code",
   "execution_count": 64,
   "id": "e081f581-7153-42b0-97a2-8fcc4a80f039",
   "metadata": {},
   "outputs": [
    {
     "data": {
      "text/plain": [
       "1.1666666666666667"
      ]
     },
     "execution_count": 64,
     "metadata": {},
     "output_type": "execute_result"
    }
   ],
   "source": [
    "Speed"
   ]
  },
  {
   "cell_type": "code",
   "execution_count": 65,
   "id": "21e34a9f-951a-4eb0-9652-168424fb3624",
   "metadata": {},
   "outputs": [
    {
     "data": {
      "text/plain": [
       "1"
      ]
     },
     "execution_count": 65,
     "metadata": {},
     "output_type": "execute_result"
    }
   ],
   "source": [
    "round(Speed)"
   ]
  },
  {
   "cell_type": "code",
   "execution_count": null,
   "id": "43a596ba-59e8-4650-83d7-d301912808c7",
   "metadata": {},
   "outputs": [],
   "source": []
  }
 ],
 "metadata": {
  "kernelspec": {
   "display_name": "Python 3 (ipykernel)",
   "language": "python",
   "name": "python3"
  },
  "language_info": {
   "codemirror_mode": {
    "name": "ipython",
    "version": 3
   },
   "file_extension": ".py",
   "mimetype": "text/x-python",
   "name": "python",
   "nbconvert_exporter": "python",
   "pygments_lexer": "ipython3",
   "version": "3.8.10"
  }
 },
 "nbformat": 4,
 "nbformat_minor": 5
}
