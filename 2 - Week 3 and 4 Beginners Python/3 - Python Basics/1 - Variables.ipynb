{
 "cells": [
  {
   "cell_type": "code",
   "execution_count": 1,
   "id": "0e51df19-4990-4e0b-93c1-ee98a678e2be",
   "metadata": {},
   "outputs": [],
   "source": [
    "can = \"soda\""
   ]
  },
  {
   "cell_type": "code",
   "execution_count": 2,
   "id": "44b361a7-5006-4957-a8c5-9e46fc724816",
   "metadata": {},
   "outputs": [
    {
     "data": {
      "text/plain": [
       "'soda'"
      ]
     },
     "execution_count": 2,
     "metadata": {},
     "output_type": "execute_result"
    }
   ],
   "source": [
    "can"
   ]
  },
  {
   "cell_type": "code",
   "execution_count": 3,
   "id": "8d0f1c77-f049-4e5c-9290-6576aed17de5",
   "metadata": {},
   "outputs": [],
   "source": [
    "can = \"beans\""
   ]
  },
  {
   "cell_type": "code",
   "execution_count": 4,
   "id": "0754a51f-7d9e-4631-8076-969a39430a06",
   "metadata": {},
   "outputs": [
    {
     "data": {
      "text/plain": [
       "'beans'"
      ]
     },
     "execution_count": 4,
     "metadata": {},
     "output_type": "execute_result"
    }
   ],
   "source": [
    "can"
   ]
  },
  {
   "cell_type": "code",
   "execution_count": 5,
   "id": "63b72628-f486-4ef5-a4ce-0bd7d8dc9cb3",
   "metadata": {},
   "outputs": [
    {
     "data": {
      "text/plain": [
       "str"
      ]
     },
     "execution_count": 5,
     "metadata": {},
     "output_type": "execute_result"
    }
   ],
   "source": [
    "type(can)"
   ]
  },
  {
   "cell_type": "code",
   "execution_count": 6,
   "id": "ca2e9335-6900-4c89-a3b4-d90dd89fe7b9",
   "metadata": {},
   "outputs": [],
   "source": [
    "first_name = 'Kumar'\n",
    "last_name = 'Vaishnav'"
   ]
  },
  {
   "cell_type": "code",
   "execution_count": 7,
   "id": "d539baea-4d98-4f6d-915e-c14e7557aae7",
   "metadata": {},
   "outputs": [
    {
     "data": {
      "text/plain": [
       "'Kumar'"
      ]
     },
     "execution_count": 7,
     "metadata": {},
     "output_type": "execute_result"
    }
   ],
   "source": [
    "first_name"
   ]
  },
  {
   "cell_type": "code",
   "execution_count": 8,
   "id": "7598b67a-9f5f-4e29-807e-69174525f33b",
   "metadata": {},
   "outputs": [
    {
     "data": {
      "text/plain": [
       "str"
      ]
     },
     "execution_count": 8,
     "metadata": {},
     "output_type": "execute_result"
    }
   ],
   "source": [
    "type(first_name)"
   ]
  },
  {
   "cell_type": "code",
   "execution_count": 9,
   "id": "f12535cf-11d2-4070-8b09-ab050a54c071",
   "metadata": {},
   "outputs": [
    {
     "data": {
      "text/plain": [
       "100"
      ]
     },
     "execution_count": 9,
     "metadata": {},
     "output_type": "execute_result"
    }
   ],
   "source": [
    "pizza = 100\n",
    "pizza"
   ]
  },
  {
   "cell_type": "code",
   "execution_count": 10,
   "id": "bb39a5dc-876e-479d-85a9-655966788efc",
   "metadata": {},
   "outputs": [
    {
     "data": {
      "text/plain": [
       "int"
      ]
     },
     "execution_count": 10,
     "metadata": {},
     "output_type": "execute_result"
    }
   ],
   "source": [
    "type(pizza)"
   ]
  },
  {
   "cell_type": "code",
   "execution_count": 11,
   "id": "b6066ef0-3ac4-44d5-a77d-1c73dcae9de1",
   "metadata": {},
   "outputs": [
    {
     "data": {
      "text/plain": [
       "20.5"
      ]
     },
     "execution_count": 11,
     "metadata": {},
     "output_type": "execute_result"
    }
   ],
   "source": [
    "samosa = 20.5\n",
    "samosa"
   ]
  },
  {
   "cell_type": "code",
   "execution_count": 12,
   "id": "988f0d24-8c4e-48ea-a479-ae2a923a3e66",
   "metadata": {},
   "outputs": [
    {
     "data": {
      "text/plain": [
       "float"
      ]
     },
     "execution_count": 12,
     "metadata": {},
     "output_type": "execute_result"
    }
   ],
   "source": [
    "type(samosa)"
   ]
  },
  {
   "cell_type": "code",
   "execution_count": 13,
   "id": "4784f531-b406-45a6-81ab-2b147ac6f011",
   "metadata": {},
   "outputs": [],
   "source": [
    "ice_cream = 40"
   ]
  },
  {
   "cell_type": "code",
   "execution_count": 14,
   "id": "57943c3e-65b4-47df-ad9f-db65cf07c455",
   "metadata": {},
   "outputs": [
    {
     "data": {
      "text/plain": [
       "160.5"
      ]
     },
     "execution_count": 14,
     "metadata": {},
     "output_type": "execute_result"
    }
   ],
   "source": [
    "total = pizza + samosa + ice_cream\n",
    "total"
   ]
  },
  {
   "cell_type": "code",
   "execution_count": 15,
   "id": "77a59cfd-7a76-4769-85d0-7e10817593a6",
   "metadata": {},
   "outputs": [
    {
     "data": {
      "text/plain": [
       "float"
      ]
     },
     "execution_count": 15,
     "metadata": {},
     "output_type": "execute_result"
    }
   ],
   "source": [
    "type(total)"
   ]
  },
  {
   "cell_type": "code",
   "execution_count": 16,
   "id": "a1b29360-4747-4562-8ff1-077aa248466f",
   "metadata": {},
   "outputs": [],
   "source": [
    "learn_python = True\n",
    "learn_fortran = False"
   ]
  },
  {
   "cell_type": "code",
   "execution_count": 21,
   "id": "aab68b8f-9795-441c-8e28-a86b8a4a547a",
   "metadata": {},
   "outputs": [
    {
     "data": {
      "text/plain": [
       "bool"
      ]
     },
     "execution_count": 21,
     "metadata": {},
     "output_type": "execute_result"
    }
   ],
   "source": [
    "type(learn_python)"
   ]
  },
  {
   "cell_type": "code",
   "execution_count": 22,
   "id": "8cf0e1dc-3351-42d7-935d-ea2d8d8bb2b7",
   "metadata": {},
   "outputs": [
    {
     "data": {
      "text/plain": [
       "'jalebi'"
      ]
     },
     "execution_count": 22,
     "metadata": {},
     "output_type": "execute_result"
    }
   ],
   "source": [
    "foo = 'jalebi'\n",
    "foo"
   ]
  },
  {
   "cell_type": "code",
   "execution_count": 23,
   "id": "7b091ad8-fc6b-4a30-b96a-8ca732e9cbc2",
   "metadata": {},
   "outputs": [
    {
     "data": {
      "text/plain": [
       "'jalebi'"
      ]
     },
     "execution_count": 23,
     "metadata": {},
     "output_type": "execute_result"
    }
   ],
   "source": [
    "bar = foo\n",
    "bar"
   ]
  },
  {
   "cell_type": "code",
   "execution_count": 24,
   "id": "135a32b8-90c1-41dc-9c46-f63a9881c1bb",
   "metadata": {},
   "outputs": [
    {
     "data": {
      "text/plain": [
       "3050044554288"
      ]
     },
     "execution_count": 24,
     "metadata": {},
     "output_type": "execute_result"
    }
   ],
   "source": [
    "id(foo)"
   ]
  },
  {
   "cell_type": "code",
   "execution_count": 25,
   "id": "bf3dd45f-3f6e-4589-8c11-45cbaf0c85a2",
   "metadata": {},
   "outputs": [
    {
     "data": {
      "text/plain": [
       "3050044554288"
      ]
     },
     "execution_count": 25,
     "metadata": {},
     "output_type": "execute_result"
    }
   ],
   "source": [
    "id(bar)"
   ]
  },
  {
   "cell_type": "code",
   "execution_count": 26,
   "id": "cb93cffa-2261-4ea6-a454-aecb9ade30d5",
   "metadata": {},
   "outputs": [
    {
     "data": {
      "text/plain": [
       "'samosa'"
      ]
     },
     "execution_count": 26,
     "metadata": {},
     "output_type": "execute_result"
    }
   ],
   "source": [
    "bar = 'samosa'\n",
    "bar"
   ]
  },
  {
   "cell_type": "code",
   "execution_count": 27,
   "id": "0ea18485-19ff-47f0-89ef-90bfa69c5cff",
   "metadata": {},
   "outputs": [
    {
     "data": {
      "text/plain": [
       "'jalebi'"
      ]
     },
     "execution_count": 27,
     "metadata": {},
     "output_type": "execute_result"
    }
   ],
   "source": [
    "foo"
   ]
  },
  {
   "cell_type": "code",
   "execution_count": 28,
   "id": "06d4f446-4212-4c4e-ba30-797583ea1364",
   "metadata": {},
   "outputs": [
    {
     "data": {
      "text/plain": [
       "3050044701808"
      ]
     },
     "execution_count": 28,
     "metadata": {},
     "output_type": "execute_result"
    }
   ],
   "source": [
    "id(bar)"
   ]
  },
  {
   "cell_type": "code",
   "execution_count": 29,
   "id": "87c2c912-8177-4df8-94ce-187484f9241d",
   "metadata": {},
   "outputs": [
    {
     "ename": "SyntaxError",
     "evalue": "invalid syntax (3093416914.py, line 1)",
     "output_type": "error",
     "traceback": [
      "\u001b[1;36m  Cell \u001b[1;32mIn[29], line 1\u001b[1;36m\u001b[0m\n\u001b[1;33m    def = 5\u001b[0m\n\u001b[1;37m        ^\u001b[0m\n\u001b[1;31mSyntaxError\u001b[0m\u001b[1;31m:\u001b[0m invalid syntax\n"
     ]
    }
   ],
   "source": [
    "def = 5"
   ]
  },
  {
   "cell_type": "code",
   "execution_count": 30,
   "id": "efe96ce5-7864-45d0-ab11-52f24cd869c1",
   "metadata": {},
   "outputs": [],
   "source": [
    "defi = 5"
   ]
  },
  {
   "cell_type": "code",
   "execution_count": 32,
   "id": "003f81b2-479d-4945-915c-e3fa9ea60dea",
   "metadata": {},
   "outputs": [
    {
     "data": {
      "text/plain": [
       "5"
      ]
     },
     "execution_count": 32,
     "metadata": {},
     "output_type": "execute_result"
    }
   ],
   "source": [
    "defi"
   ]
  },
  {
   "cell_type": "code",
   "execution_count": 38,
   "id": "1a41ad2c-ce23-4b95-8802-ec7983816366",
   "metadata": {},
   "outputs": [],
   "source": [
    "true = 5 "
   ]
  },
  {
   "cell_type": "code",
   "execution_count": 39,
   "id": "a263be92-f6de-431a-a29b-ebc60ff0d3cd",
   "metadata": {},
   "outputs": [
    {
     "data": {
      "text/plain": [
       "5"
      ]
     },
     "execution_count": 39,
     "metadata": {},
     "output_type": "execute_result"
    }
   ],
   "source": [
    "true"
   ]
  },
  {
   "cell_type": "code",
   "execution_count": 40,
   "id": "48705a8b-df9e-46d5-b5d6-547993ff4147",
   "metadata": {},
   "outputs": [
    {
     "ename": "SyntaxError",
     "evalue": "cannot assign to True (3181896827.py, line 1)",
     "output_type": "error",
     "traceback": [
      "\u001b[1;36m  Cell \u001b[1;32mIn[40], line 1\u001b[1;36m\u001b[0m\n\u001b[1;33m    True = 5\u001b[0m\n\u001b[1;37m    ^\u001b[0m\n\u001b[1;31mSyntaxError\u001b[0m\u001b[1;31m:\u001b[0m cannot assign to True\n"
     ]
    }
   ],
   "source": [
    "True = 5\n",
    "True"
   ]
  },
  {
   "cell_type": "code",
   "execution_count": 42,
   "id": "13163ba1-84df-408d-b91f-cd5f6863e9b7",
   "metadata": {},
   "outputs": [
    {
     "ename": "SyntaxError",
     "evalue": "invalid syntax (1341057090.py, line 1)",
     "output_type": "error",
     "traceback": [
      "\u001b[1;36m  Cell \u001b[1;32mIn[42], line 1\u001b[1;36m\u001b[0m\n\u001b[1;33m    $name= 'Vaishnav'\u001b[0m\n\u001b[1;37m    ^\u001b[0m\n\u001b[1;31mSyntaxError\u001b[0m\u001b[1;31m:\u001b[0m invalid syntax\n"
     ]
    }
   ],
   "source": [
    "$name= 'Vaishnav'"
   ]
  },
  {
   "cell_type": "code",
   "execution_count": 43,
   "id": "35f74d9a-fc43-45d9-a1af-b881480a9ba2",
   "metadata": {},
   "outputs": [
    {
     "data": {
      "text/plain": [
       "'Kv'"
      ]
     },
     "execution_count": 43,
     "metadata": {},
     "output_type": "execute_result"
    }
   ],
   "source": [
    "_name1 = 'Kv'\n",
    "_name1"
   ]
  },
  {
   "cell_type": "markdown",
   "id": "4d8d1fbb-e7cd-455c-a9c4-541c4b6572f5",
   "metadata": {},
   "source": [
    "Check for naming convention"
   ]
  },
  {
   "cell_type": "raw",
   "id": "816996eb-006a-4953-80fa-93c234533f08",
   "metadata": {},
   "source": [
    "Exercise-------\n",
    "Create a variable named pi and store the value 22/7 in it. Now check the data type of this variable.\n",
    "Create a variable called for and assign it a value 4. See what happens and find out the reason behind the behavior that you see**.**\n",
    "Store the principal amount, rate of interest, and time in different variables and then calculate the Simple Interest for 3 years**.**\n",
    "Formula:\n",
    "\n",
    "Simple Interest = P x R x T / 100\n",
    "\n",
    "Solution: Click on the Download Files button (top right) to download the solution. To open this file in jupyter notebook,\n",
    "(1) Open a command prompt\n",
    "(2) In the command prompt, go to a directory where the file is downloaded\n",
    "(3) Run python -m notebook to launch a jupyter notebook. In the jupyter notebook, you will be able to see the solution file"
   ]
  },
  {
   "cell_type": "code",
   "execution_count": 44,
   "id": "aa6807bf-bf2d-47dc-a55c-2070ce0d3b39",
   "metadata": {},
   "outputs": [
    {
     "data": {
      "text/plain": [
       "3.142857142857143"
      ]
     },
     "execution_count": 44,
     "metadata": {},
     "output_type": "execute_result"
    }
   ],
   "source": [
    "pi = 22/7\n",
    "pi"
   ]
  },
  {
   "cell_type": "code",
   "execution_count": 45,
   "id": "9a6df154-98bf-47b2-942e-f3786346010e",
   "metadata": {},
   "outputs": [
    {
     "data": {
      "text/plain": [
       "float"
      ]
     },
     "execution_count": 45,
     "metadata": {},
     "output_type": "execute_result"
    }
   ],
   "source": [
    "type(pi)"
   ]
  },
  {
   "cell_type": "code",
   "execution_count": 46,
   "id": "1996a150-37e2-4814-8270-c200921eb904",
   "metadata": {},
   "outputs": [
    {
     "ename": "SyntaxError",
     "evalue": "invalid syntax (2046953698.py, line 1)",
     "output_type": "error",
     "traceback": [
      "\u001b[1;36m  Cell \u001b[1;32mIn[46], line 1\u001b[1;36m\u001b[0m\n\u001b[1;33m    for = 4\u001b[0m\n\u001b[1;37m        ^\u001b[0m\n\u001b[1;31mSyntaxError\u001b[0m\u001b[1;31m:\u001b[0m invalid syntax\n"
     ]
    }
   ],
   "source": [
    "for = 4"
   ]
  },
  {
   "cell_type": "code",
   "execution_count": 47,
   "id": "7bb69d98-6e0d-4131-8999-994b37eab70c",
   "metadata": {},
   "outputs": [
    {
     "ename": "SyntaxError",
     "evalue": "invalid syntax (3193057967.py, line 1)",
     "output_type": "error",
     "traceback": [
      "\u001b[1;36m  Cell \u001b[1;32mIn[47], line 1\u001b[1;36m\u001b[0m\n\u001b[1;33m    for\u001b[0m\n\u001b[1;37m       ^\u001b[0m\n\u001b[1;31mSyntaxError\u001b[0m\u001b[1;31m:\u001b[0m invalid syntax\n"
     ]
    }
   ],
   "source": [
    "for"
   ]
  },
  {
   "cell_type": "code",
   "execution_count": 48,
   "id": "e6b2cd97-5ea3-4132-bd4b-9335050a7657",
   "metadata": {},
   "outputs": [],
   "source": [
    "principal_amount = 50000\n",
    "rate_of_Interest = 3.5\n",
    "Time = 3"
   ]
  },
  {
   "cell_type": "code",
   "execution_count": 49,
   "id": "028a8f70-4395-4782-9daa-fff8613f7370",
   "metadata": {},
   "outputs": [],
   "source": [
    "Simple_Interest = (principal_amount * rate_of_Interest * Time)/100"
   ]
  },
  {
   "cell_type": "code",
   "execution_count": 50,
   "id": "5b6c606e-905c-41c4-8b5e-d771acff8268",
   "metadata": {},
   "outputs": [
    {
     "data": {
      "text/plain": [
       "5250.0"
      ]
     },
     "execution_count": 50,
     "metadata": {},
     "output_type": "execute_result"
    }
   ],
   "source": [
    "Simple_Interest"
   ]
  },
  {
   "cell_type": "code",
   "execution_count": 51,
   "id": "4d305bcb-6bb0-46e6-8425-df9c9974b13e",
   "metadata": {},
   "outputs": [
    {
     "data": {
      "text/plain": [
       "float"
      ]
     },
     "execution_count": 51,
     "metadata": {},
     "output_type": "execute_result"
    }
   ],
   "source": [
    "type(Simple_Interest)"
   ]
  },
  {
   "cell_type": "code",
   "execution_count": null,
   "id": "9cbed97c-a4af-4b31-9309-5af7a4db13e2",
   "metadata": {},
   "outputs": [],
   "source": []
  }
 ],
 "metadata": {
  "kernelspec": {
   "display_name": "Python 3 (ipykernel)",
   "language": "python",
   "name": "python3"
  },
  "language_info": {
   "codemirror_mode": {
    "name": "ipython",
    "version": 3
   },
   "file_extension": ".py",
   "mimetype": "text/x-python",
   "name": "python",
   "nbconvert_exporter": "python",
   "pygments_lexer": "ipython3",
   "version": "3.8.10"
  }
 },
 "nbformat": 4,
 "nbformat_minor": 5
}
